{
  "nbformat": 4,
  "nbformat_minor": 0,
  "metadata": {
    "colab": {
      "provenance": [],
      "gpuType": "T4"
    },
    "kernelspec": {
      "name": "python3",
      "display_name": "Python 3"
    },
    "language_info": {
      "name": "python"
    },
    "accelerator": "GPU",
    "gpuClass": "standard"
  },
  "cells": [
    {
      "cell_type": "markdown",
      "source": [
        "# **Kaggle HW5: [TEAM]**\n",
        "\n"
      ],
      "metadata": {
        "id": "mPZLxHG7N9mu"
      }
    },
    {
      "cell_type": "markdown",
      "source": [
        "**Remember to write your team name above, which MUST match your team name on Kaggle!!** Assignments without a team name will receive a 0/40 on the \"accuracy on test data\" component of this assignment's grade."
      ],
      "metadata": {
        "id": "lRZ0yjtqYELC"
      }
    },
    {
      "cell_type": "markdown",
      "source": [
        "### **Load the Data**"
      ],
      "metadata": {
        "id": "lwnjXjk4B41V"
      }
    },
    {
      "cell_type": "code",
      "metadata": {
        "id": "4WRff5x-3TYI"
      },
      "source": [
        "# This cell is necessary only if you are running on Google Colab. It downloads the files to your\n",
        "# Colab instance so you don't have to upload them here.\n",
        "\n",
        "import requests\n",
        "\n",
        "def save_file(url, file_name):\n",
        "    r = requests.get(url)\n",
        "    with open(file_name, 'wb') as f:\n",
        "      f.write(r.content)\n",
        "\n",
        "save_file('https://courses.cs.washington.edu/courses/cse416/23sp/homeworks/hw5/edx_train.csv',\n",
        "          'edx_train.csv')\n",
        "save_file('https://courses.cs.washington.edu/courses/cse416/23sp/homeworks/hw5/edx_test.csv',\n",
        "          'edx_test.csv')"
      ],
      "execution_count": null,
      "outputs": []
    },
    {
      "cell_type": "markdown",
      "source": [
        "### **Sample Code: Random Classifier**\n",
        "\n",
        "**NOTE**: This classifier **DOES NOT** count as one of the 2 required for this assignment! It is merely here to illstrate how to submit your predictions.\n",
        "\n",
        "See the Kaggle assignment (Data tab) for a description of each column in the dataset. You are creating a classifier to predict whether or not a student will get certified, stored in the `\"certified\"` column."
      ],
      "metadata": {
        "id": "4RBuRNVKB_sa"
      }
    },
    {
      "cell_type": "code",
      "source": [
        "import pandas as pd\n",
        "from sklearn.dummy import DummyClassifier\n",
        "\n",
        "target = \"certified\" # target column\n",
        "\n",
        "# This classifier returns labels sampled uniformly at random\n",
        "df_train = pd.read_csv('edx_train.csv')\n",
        "dummy_model = DummyClassifier(strategy=\"uniform\")\n",
        "dummy_model.fit(df_train.drop(target, axis=1), df_train[target])"
      ],
      "metadata": {
        "id": "O_mvbzSAd5dU",
        "colab": {
          "base_uri": "https://localhost:8080/",
          "height": 75
        },
        "outputId": "b26610c4-6589-429e-d747-837250e0b105"
      },
      "execution_count": null,
      "outputs": [
        {
          "output_type": "execute_result",
          "data": {
            "text/plain": [
              "DummyClassifier(strategy='uniform')"
            ],
            "text/html": [
              "<style>#sk-container-id-1 {color: black;background-color: white;}#sk-container-id-1 pre{padding: 0;}#sk-container-id-1 div.sk-toggleable {background-color: white;}#sk-container-id-1 label.sk-toggleable__label {cursor: pointer;display: block;width: 100%;margin-bottom: 0;padding: 0.3em;box-sizing: border-box;text-align: center;}#sk-container-id-1 label.sk-toggleable__label-arrow:before {content: \"▸\";float: left;margin-right: 0.25em;color: #696969;}#sk-container-id-1 label.sk-toggleable__label-arrow:hover:before {color: black;}#sk-container-id-1 div.sk-estimator:hover label.sk-toggleable__label-arrow:before {color: black;}#sk-container-id-1 div.sk-toggleable__content {max-height: 0;max-width: 0;overflow: hidden;text-align: left;background-color: #f0f8ff;}#sk-container-id-1 div.sk-toggleable__content pre {margin: 0.2em;color: black;border-radius: 0.25em;background-color: #f0f8ff;}#sk-container-id-1 input.sk-toggleable__control:checked~div.sk-toggleable__content {max-height: 200px;max-width: 100%;overflow: auto;}#sk-container-id-1 input.sk-toggleable__control:checked~label.sk-toggleable__label-arrow:before {content: \"▾\";}#sk-container-id-1 div.sk-estimator input.sk-toggleable__control:checked~label.sk-toggleable__label {background-color: #d4ebff;}#sk-container-id-1 div.sk-label input.sk-toggleable__control:checked~label.sk-toggleable__label {background-color: #d4ebff;}#sk-container-id-1 input.sk-hidden--visually {border: 0;clip: rect(1px 1px 1px 1px);clip: rect(1px, 1px, 1px, 1px);height: 1px;margin: -1px;overflow: hidden;padding: 0;position: absolute;width: 1px;}#sk-container-id-1 div.sk-estimator {font-family: monospace;background-color: #f0f8ff;border: 1px dotted black;border-radius: 0.25em;box-sizing: border-box;margin-bottom: 0.5em;}#sk-container-id-1 div.sk-estimator:hover {background-color: #d4ebff;}#sk-container-id-1 div.sk-parallel-item::after {content: \"\";width: 100%;border-bottom: 1px solid gray;flex-grow: 1;}#sk-container-id-1 div.sk-label:hover label.sk-toggleable__label {background-color: #d4ebff;}#sk-container-id-1 div.sk-serial::before {content: \"\";position: absolute;border-left: 1px solid gray;box-sizing: border-box;top: 0;bottom: 0;left: 50%;z-index: 0;}#sk-container-id-1 div.sk-serial {display: flex;flex-direction: column;align-items: center;background-color: white;padding-right: 0.2em;padding-left: 0.2em;position: relative;}#sk-container-id-1 div.sk-item {position: relative;z-index: 1;}#sk-container-id-1 div.sk-parallel {display: flex;align-items: stretch;justify-content: center;background-color: white;position: relative;}#sk-container-id-1 div.sk-item::before, #sk-container-id-1 div.sk-parallel-item::before {content: \"\";position: absolute;border-left: 1px solid gray;box-sizing: border-box;top: 0;bottom: 0;left: 50%;z-index: -1;}#sk-container-id-1 div.sk-parallel-item {display: flex;flex-direction: column;z-index: 1;position: relative;background-color: white;}#sk-container-id-1 div.sk-parallel-item:first-child::after {align-self: flex-end;width: 50%;}#sk-container-id-1 div.sk-parallel-item:last-child::after {align-self: flex-start;width: 50%;}#sk-container-id-1 div.sk-parallel-item:only-child::after {width: 0;}#sk-container-id-1 div.sk-dashed-wrapped {border: 1px dashed gray;margin: 0 0.4em 0.5em 0.4em;box-sizing: border-box;padding-bottom: 0.4em;background-color: white;}#sk-container-id-1 div.sk-label label {font-family: monospace;font-weight: bold;display: inline-block;line-height: 1.2em;}#sk-container-id-1 div.sk-label-container {text-align: center;}#sk-container-id-1 div.sk-container {/* jupyter's `normalize.less` sets `[hidden] { display: none; }` but bootstrap.min.css set `[hidden] { display: none !important; }` so we also need the `!important` here to be able to override the default hidden behavior on the sphinx rendered scikit-learn.org. See: https://github.com/scikit-learn/scikit-learn/issues/21755 */display: inline-block !important;position: relative;}#sk-container-id-1 div.sk-text-repr-fallback {display: none;}</style><div id=\"sk-container-id-1\" class=\"sk-top-container\"><div class=\"sk-text-repr-fallback\"><pre>DummyClassifier(strategy=&#x27;uniform&#x27;)</pre><b>In a Jupyter environment, please rerun this cell to show the HTML representation or trust the notebook. <br />On GitHub, the HTML representation is unable to render, please try loading this page with nbviewer.org.</b></div><div class=\"sk-container\" hidden><div class=\"sk-item\"><div class=\"sk-estimator sk-toggleable\"><input class=\"sk-toggleable__control sk-hidden--visually\" id=\"sk-estimator-id-1\" type=\"checkbox\" checked><label for=\"sk-estimator-id-1\" class=\"sk-toggleable__label sk-toggleable__label-arrow\">DummyClassifier</label><div class=\"sk-toggleable__content\"><pre>DummyClassifier(strategy=&#x27;uniform&#x27;)</pre></div></div></div></div></div>"
            ]
          },
          "metadata": {},
          "execution_count": 2
        }
      ]
    },
    {
      "cell_type": "markdown",
      "source": [
        "The code below generates predictions on the test set, and outputs the predictions into a CSV file."
      ],
      "metadata": {
        "id": "F3pMT8VlEk15"
      }
    },
    {
      "cell_type": "code",
      "source": [
        "# Generate predictions on the test set\n",
        "df_test = pd.read_csv('edx_test.csv')\n",
        "predictions = dummy_model.predict(df_test)\n",
        "\n",
        "# Save your predictions as a CSV\n",
        "to_save = df_test[['userid_DI']].copy()\n",
        "to_save.loc[:, 'certified'] = predictions\n",
        "to_save.to_csv('submission.csv', index=False)\n",
        "\n",
        "# See below for instructions on how to upload submission.csv to Kaggle,\n",
        "# in order to evaluate your model and get points."
      ],
      "metadata": {
        "id": "W1vMUKAVeDWK"
      },
      "execution_count": null,
      "outputs": []
    },
    {
      "cell_type": "markdown",
      "source": [
        "### **[5 Pts] Model Comparison**\n",
        "\n",
        "**Instructions**: Run at least 2 different classification models. The classification models we have learned in class are: [Logistic Regression](https://scikit-learn.org/stable/modules/generated/sklearn.linear_model.LogisticRegression.html), [k-Nearest Neighbors](https://scikit-learn.org/stable/modules/generated/sklearn.neighbors.KNeighborsClassifier.html), [Decision Trees](https://scikit-learn.org/stable/modules/generated/sklearn.tree.DecisionTreeClassifier.html), [Random Forests](https://scikit-learn.org/stable/modules/generated/sklearn.ensemble.RandomForestClassifier.html), and [AdaBoost](https://scikit-learn.org/stable/modules/generated/sklearn.ensemble.AdaBoostClassifier.html), [Neural Networks](https://scikit-learn.org/stable/modules/neural_networks_supervised.html). For each model, try at least 2 different hyperparameter settings.\n",
        "\n",
        "Then, make one or more visualizations that let you compare the models you trained. Sample visualizations you can make include confusion matrices, or graphs of train and validation accuracy/error. See past section and homework code for how to make these visualizations."
      ],
      "metadata": {
        "id": "r4Sv5DRBOJ_Q"
      }
    },
    {
      "cell_type": "code",
      "source": [
        "import numpy as np\n",
        "from sklearn.preprocessing import StandardScaler\n",
        "from sklearn.model_selection import train_test_split"
      ],
      "metadata": {
        "id": "0VSopuKG4wUv"
      },
      "execution_count": null,
      "outputs": []
    },
    {
      "cell_type": "code",
      "source": [
        "df_train.head()"
      ],
      "metadata": {
        "colab": {
          "base_uri": "https://localhost:8080/",
          "height": 270
        },
        "id": "VcuQd6F4M6YQ",
        "outputId": "4bc78256-612b-4699-af8d-8e1905fb8063"
      },
      "execution_count": null,
      "outputs": [
        {
          "output_type": "execute_result",
          "data": {
            "text/plain": [
              "                    course_id       userid_DI  registered  viewed  explored  \\\n",
              "0         HarvardX/CS50x/2012  MHxPC130545492           1       1         1   \n",
              "1  HarvardX/ER22x/2013_Spring  MHxPC130536944           1       1         1   \n",
              "2         HarvardX/CS50x/2012  MHxPC130442298           1       1         1   \n",
              "3  HarvardX/ER22x/2013_Spring  MHxPC130273564           1       1         1   \n",
              "4         HarvardX/CS50x/2012  MHxPC130247761           1       1         0   \n",
              "\n",
              "   certified final_cc_cname_DI      LoE_DI     YoB gender start_time_DI  \\\n",
              "0          1     United States    Master's  1984.0      m       3/10/13   \n",
              "1          1    United Kingdom    Master's  1985.0      f       3/13/13   \n",
              "2          1             India         NaN     NaN    NaN        8/2/12   \n",
              "3          1    United Kingdom  Bachelor's  1982.0      m       1/23/13   \n",
              "4          0     United States   Secondary  1989.0      m        3/5/13   \n",
              "\n",
              "  last_event_DI  nevents  ndays_act  nplay_video  nchapters  nforum_posts  \n",
              "0       7/29/13   1161.0       50.0          NaN       12.0             0  \n",
              "1        8/1/13   1360.0       10.0          NaN       29.0             0  \n",
              "2       7/25/13     77.0       18.0          NaN        7.0             0  \n",
              "3       8/13/13   1425.0       29.0          NaN       34.0             0  \n",
              "4        3/5/13      6.0        1.0          NaN        1.0             0  "
            ],
            "text/html": [
              "\n",
              "  <div id=\"df-4094186e-6daf-4bb6-b8bd-3056101b0ae7\">\n",
              "    <div class=\"colab-df-container\">\n",
              "      <div>\n",
              "<style scoped>\n",
              "    .dataframe tbody tr th:only-of-type {\n",
              "        vertical-align: middle;\n",
              "    }\n",
              "\n",
              "    .dataframe tbody tr th {\n",
              "        vertical-align: top;\n",
              "    }\n",
              "\n",
              "    .dataframe thead th {\n",
              "        text-align: right;\n",
              "    }\n",
              "</style>\n",
              "<table border=\"1\" class=\"dataframe\">\n",
              "  <thead>\n",
              "    <tr style=\"text-align: right;\">\n",
              "      <th></th>\n",
              "      <th>course_id</th>\n",
              "      <th>userid_DI</th>\n",
              "      <th>registered</th>\n",
              "      <th>viewed</th>\n",
              "      <th>explored</th>\n",
              "      <th>certified</th>\n",
              "      <th>final_cc_cname_DI</th>\n",
              "      <th>LoE_DI</th>\n",
              "      <th>YoB</th>\n",
              "      <th>gender</th>\n",
              "      <th>start_time_DI</th>\n",
              "      <th>last_event_DI</th>\n",
              "      <th>nevents</th>\n",
              "      <th>ndays_act</th>\n",
              "      <th>nplay_video</th>\n",
              "      <th>nchapters</th>\n",
              "      <th>nforum_posts</th>\n",
              "    </tr>\n",
              "  </thead>\n",
              "  <tbody>\n",
              "    <tr>\n",
              "      <th>0</th>\n",
              "      <td>HarvardX/CS50x/2012</td>\n",
              "      <td>MHxPC130545492</td>\n",
              "      <td>1</td>\n",
              "      <td>1</td>\n",
              "      <td>1</td>\n",
              "      <td>1</td>\n",
              "      <td>United States</td>\n",
              "      <td>Master's</td>\n",
              "      <td>1984.0</td>\n",
              "      <td>m</td>\n",
              "      <td>3/10/13</td>\n",
              "      <td>7/29/13</td>\n",
              "      <td>1161.0</td>\n",
              "      <td>50.0</td>\n",
              "      <td>NaN</td>\n",
              "      <td>12.0</td>\n",
              "      <td>0</td>\n",
              "    </tr>\n",
              "    <tr>\n",
              "      <th>1</th>\n",
              "      <td>HarvardX/ER22x/2013_Spring</td>\n",
              "      <td>MHxPC130536944</td>\n",
              "      <td>1</td>\n",
              "      <td>1</td>\n",
              "      <td>1</td>\n",
              "      <td>1</td>\n",
              "      <td>United Kingdom</td>\n",
              "      <td>Master's</td>\n",
              "      <td>1985.0</td>\n",
              "      <td>f</td>\n",
              "      <td>3/13/13</td>\n",
              "      <td>8/1/13</td>\n",
              "      <td>1360.0</td>\n",
              "      <td>10.0</td>\n",
              "      <td>NaN</td>\n",
              "      <td>29.0</td>\n",
              "      <td>0</td>\n",
              "    </tr>\n",
              "    <tr>\n",
              "      <th>2</th>\n",
              "      <td>HarvardX/CS50x/2012</td>\n",
              "      <td>MHxPC130442298</td>\n",
              "      <td>1</td>\n",
              "      <td>1</td>\n",
              "      <td>1</td>\n",
              "      <td>1</td>\n",
              "      <td>India</td>\n",
              "      <td>NaN</td>\n",
              "      <td>NaN</td>\n",
              "      <td>NaN</td>\n",
              "      <td>8/2/12</td>\n",
              "      <td>7/25/13</td>\n",
              "      <td>77.0</td>\n",
              "      <td>18.0</td>\n",
              "      <td>NaN</td>\n",
              "      <td>7.0</td>\n",
              "      <td>0</td>\n",
              "    </tr>\n",
              "    <tr>\n",
              "      <th>3</th>\n",
              "      <td>HarvardX/ER22x/2013_Spring</td>\n",
              "      <td>MHxPC130273564</td>\n",
              "      <td>1</td>\n",
              "      <td>1</td>\n",
              "      <td>1</td>\n",
              "      <td>1</td>\n",
              "      <td>United Kingdom</td>\n",
              "      <td>Bachelor's</td>\n",
              "      <td>1982.0</td>\n",
              "      <td>m</td>\n",
              "      <td>1/23/13</td>\n",
              "      <td>8/13/13</td>\n",
              "      <td>1425.0</td>\n",
              "      <td>29.0</td>\n",
              "      <td>NaN</td>\n",
              "      <td>34.0</td>\n",
              "      <td>0</td>\n",
              "    </tr>\n",
              "    <tr>\n",
              "      <th>4</th>\n",
              "      <td>HarvardX/CS50x/2012</td>\n",
              "      <td>MHxPC130247761</td>\n",
              "      <td>1</td>\n",
              "      <td>1</td>\n",
              "      <td>0</td>\n",
              "      <td>0</td>\n",
              "      <td>United States</td>\n",
              "      <td>Secondary</td>\n",
              "      <td>1989.0</td>\n",
              "      <td>m</td>\n",
              "      <td>3/5/13</td>\n",
              "      <td>3/5/13</td>\n",
              "      <td>6.0</td>\n",
              "      <td>1.0</td>\n",
              "      <td>NaN</td>\n",
              "      <td>1.0</td>\n",
              "      <td>0</td>\n",
              "    </tr>\n",
              "  </tbody>\n",
              "</table>\n",
              "</div>\n",
              "      <button class=\"colab-df-convert\" onclick=\"convertToInteractive('df-4094186e-6daf-4bb6-b8bd-3056101b0ae7')\"\n",
              "              title=\"Convert this dataframe to an interactive table.\"\n",
              "              style=\"display:none;\">\n",
              "        \n",
              "  <svg xmlns=\"http://www.w3.org/2000/svg\" height=\"24px\"viewBox=\"0 0 24 24\"\n",
              "       width=\"24px\">\n",
              "    <path d=\"M0 0h24v24H0V0z\" fill=\"none\"/>\n",
              "    <path d=\"M18.56 5.44l.94 2.06.94-2.06 2.06-.94-2.06-.94-.94-2.06-.94 2.06-2.06.94zm-11 1L8.5 8.5l.94-2.06 2.06-.94-2.06-.94L8.5 2.5l-.94 2.06-2.06.94zm10 10l.94 2.06.94-2.06 2.06-.94-2.06-.94-.94-2.06-.94 2.06-2.06.94z\"/><path d=\"M17.41 7.96l-1.37-1.37c-.4-.4-.92-.59-1.43-.59-.52 0-1.04.2-1.43.59L10.3 9.45l-7.72 7.72c-.78.78-.78 2.05 0 2.83L4 21.41c.39.39.9.59 1.41.59.51 0 1.02-.2 1.41-.59l7.78-7.78 2.81-2.81c.8-.78.8-2.07 0-2.86zM5.41 20L4 18.59l7.72-7.72 1.47 1.35L5.41 20z\"/>\n",
              "  </svg>\n",
              "      </button>\n",
              "      \n",
              "  <style>\n",
              "    .colab-df-container {\n",
              "      display:flex;\n",
              "      flex-wrap:wrap;\n",
              "      gap: 12px;\n",
              "    }\n",
              "\n",
              "    .colab-df-convert {\n",
              "      background-color: #E8F0FE;\n",
              "      border: none;\n",
              "      border-radius: 50%;\n",
              "      cursor: pointer;\n",
              "      display: none;\n",
              "      fill: #1967D2;\n",
              "      height: 32px;\n",
              "      padding: 0 0 0 0;\n",
              "      width: 32px;\n",
              "    }\n",
              "\n",
              "    .colab-df-convert:hover {\n",
              "      background-color: #E2EBFA;\n",
              "      box-shadow: 0px 1px 2px rgba(60, 64, 67, 0.3), 0px 1px 3px 1px rgba(60, 64, 67, 0.15);\n",
              "      fill: #174EA6;\n",
              "    }\n",
              "\n",
              "    [theme=dark] .colab-df-convert {\n",
              "      background-color: #3B4455;\n",
              "      fill: #D2E3FC;\n",
              "    }\n",
              "\n",
              "    [theme=dark] .colab-df-convert:hover {\n",
              "      background-color: #434B5C;\n",
              "      box-shadow: 0px 1px 3px 1px rgba(0, 0, 0, 0.15);\n",
              "      filter: drop-shadow(0px 1px 2px rgba(0, 0, 0, 0.3));\n",
              "      fill: #FFFFFF;\n",
              "    }\n",
              "  </style>\n",
              "\n",
              "      <script>\n",
              "        const buttonEl =\n",
              "          document.querySelector('#df-4094186e-6daf-4bb6-b8bd-3056101b0ae7 button.colab-df-convert');\n",
              "        buttonEl.style.display =\n",
              "          google.colab.kernel.accessAllowed ? 'block' : 'none';\n",
              "\n",
              "        async function convertToInteractive(key) {\n",
              "          const element = document.querySelector('#df-4094186e-6daf-4bb6-b8bd-3056101b0ae7');\n",
              "          const dataTable =\n",
              "            await google.colab.kernel.invokeFunction('convertToInteractive',\n",
              "                                                     [key], {});\n",
              "          if (!dataTable) return;\n",
              "\n",
              "          const docLinkHtml = 'Like what you see? Visit the ' +\n",
              "            '<a target=\"_blank\" href=https://colab.research.google.com/notebooks/data_table.ipynb>data table notebook</a>'\n",
              "            + ' to learn more about interactive tables.';\n",
              "          element.innerHTML = '';\n",
              "          dataTable['output_type'] = 'display_data';\n",
              "          await google.colab.output.renderOutput(dataTable, element);\n",
              "          const docLink = document.createElement('div');\n",
              "          docLink.innerHTML = docLinkHtml;\n",
              "          element.appendChild(docLink);\n",
              "        }\n",
              "      </script>\n",
              "    </div>\n",
              "  </div>\n",
              "  "
            ]
          },
          "metadata": {},
          "execution_count": 21
        }
      ]
    },
    {
      "cell_type": "code",
      "source": [
        "## Make a dataset that does not have 'userid'\n",
        "df_train2 = df_train.drop('userid_DI', axis = 1)\n",
        "df_test2 = df_test.drop('userid_DI', axis = 1)\n",
        "\n",
        "# Remove 2 features\n",
        "coln = list(df_train2.columns)\n",
        "coln.remove('start_time_DI')\n",
        "coln.remove('last_event_DI')\n",
        "\n",
        "df_train_rm = df_train2[coln]\n",
        "\n",
        "coln.remove('certified')\n",
        "df_test_rm = df_test2[coln]"
      ],
      "metadata": {
        "id": "fSGx3SzvFqeo"
      },
      "execution_count": null,
      "outputs": []
    },
    {
      "cell_type": "markdown",
      "source": [
        "## 1. Handle the missing values"
      ],
      "metadata": {
        "id": "1VWoXeWh2L-X"
      }
    },
    {
      "cell_type": "code",
      "source": [
        "df_train_rm.fillna(0, inplace=True)\n",
        "df_test_rm.fillna(0, inplace=True)\n",
        "\n",
        "numerical_values = [\"YoB\", \"nevents\", \"nplay_video\", \"nchapters\", \"nforum_posts\"]\n",
        "for column_name in numerical_values:\n",
        "  unknown_mask = df_train_rm[column_name] == -1\n",
        "  column_mean = df_train_rm[~unknown_mask][column_name].mean()\n",
        "  df_train_rm.loc[unknown_mask, column_name] = column_mean"
      ],
      "metadata": {
        "id": "vkv-HyG4PRjR",
        "colab": {
          "base_uri": "https://localhost:8080/"
        },
        "outputId": "00b72e50-f1c7-4cb7-e035-12520eaa6cc8"
      },
      "execution_count": null,
      "outputs": [
        {
          "output_type": "stream",
          "name": "stderr",
          "text": [
            "<ipython-input-6-5a754514bc24>:1: SettingWithCopyWarning: \n",
            "A value is trying to be set on a copy of a slice from a DataFrame\n",
            "\n",
            "See the caveats in the documentation: https://pandas.pydata.org/pandas-docs/stable/user_guide/indexing.html#returning-a-view-versus-a-copy\n",
            "  df_train_rm.fillna(0, inplace=True)\n",
            "<ipython-input-6-5a754514bc24>:2: SettingWithCopyWarning: \n",
            "A value is trying to be set on a copy of a slice from a DataFrame\n",
            "\n",
            "See the caveats in the documentation: https://pandas.pydata.org/pandas-docs/stable/user_guide/indexing.html#returning-a-view-versus-a-copy\n",
            "  df_test_rm.fillna(0, inplace=True)\n"
          ]
        }
      ]
    },
    {
      "cell_type": "markdown",
      "source": [
        "## 2. Encode categorical variables(one-hot encoding)"
      ],
      "metadata": {
        "id": "Qk-G7MJC3wKw"
      }
    },
    {
      "cell_type": "code",
      "source": [
        "# Perform one-hot encoding for categorical variables in the training dataset\n",
        "train_data_encoded = pd.get_dummies(df_train_rm, columns=['final_cc_cname_DI', 'LoE_DI', 'gender', 'course_id'])\n",
        "#trai_data_encoded = pd.get_dummies(df_train)\n",
        "\n",
        "# Perform one-hot encoding for categorical variables in the test dataset\n",
        "test_data_encoded = pd.get_dummies(df_test_rm, columns=['final_cc_cname_DI', 'LoE_DI', 'gender', 'course_id'])\n",
        "\n",
        "# Verify the encoded datasets\n",
        "print(train_data_encoded.head())\n",
        "print(test_data_encoded.head())"
      ],
      "metadata": {
        "id": "GIrm3dWV3zcF"
      },
      "execution_count": null,
      "outputs": []
    },
    {
      "cell_type": "markdown",
      "source": [
        "## 3. Feature scaling"
      ],
      "metadata": {
        "id": "o0rBcVZj4XMc"
      }
    },
    {
      "cell_type": "code",
      "source": [
        "# Initialize the StandardScaler\n",
        "scaler = StandardScaler()\n",
        "\n",
        "# Perform feature scaling on numeric columns in the training dataset\n",
        "numeric_columns = ['YoB', 'nevents', 'ndays_act', 'nplay_video', 'nchapters', 'nforum_posts']\n",
        "train_data_scaled = train_data_encoded.copy()\n",
        "train_data_scaled[numeric_columns] = scaler.fit_transform(train_data_encoded[numeric_columns])\n",
        "\n",
        "# Perform feature scaling on numeric columns in the test dataset\n",
        "test_data_scaled = test_data_encoded.copy()\n",
        "test_data_scaled[numeric_columns] = scaler.transform(test_data_encoded[numeric_columns])\n",
        "\n",
        "# Verify the scaled datasets\n",
        "print(train_data_scaled.head())\n",
        "print(test_data_scaled.head())"
      ],
      "metadata": {
        "id": "xqgdwrnR4hN4"
      },
      "execution_count": null,
      "outputs": []
    },
    {
      "cell_type": "code",
      "source": [
        "# Check if data still has missing values\n",
        "print(train_data_scaled.isnull().sum())\n",
        "print(test_data_scaled.isnull().sum())"
      ],
      "metadata": {
        "id": "mDC3T9yzIGaE",
        "colab": {
          "base_uri": "https://localhost:8080/"
        },
        "outputId": "61db9263-e5e5-4ece-8957-c10010d0b6a0"
      },
      "execution_count": null,
      "outputs": [
        {
          "output_type": "stream",
          "name": "stdout",
          "text": [
            "registered                                                  0\n",
            "viewed                                                      0\n",
            "explored                                                    0\n",
            "certified                                                   0\n",
            "YoB                                                         0\n",
            "nevents                                                     0\n",
            "ndays_act                                                   0\n",
            "nplay_video                                                 0\n",
            "nchapters                                                   0\n",
            "nforum_posts                                                0\n",
            "final_cc_cname_DI_Australia                                 0\n",
            "final_cc_cname_DI_Bangladesh                                0\n",
            "final_cc_cname_DI_Brazil                                    0\n",
            "final_cc_cname_DI_Canada                                    0\n",
            "final_cc_cname_DI_China                                     0\n",
            "final_cc_cname_DI_Colombia                                  0\n",
            "final_cc_cname_DI_Egypt                                     0\n",
            "final_cc_cname_DI_France                                    0\n",
            "final_cc_cname_DI_Germany                                   0\n",
            "final_cc_cname_DI_Greece                                    0\n",
            "final_cc_cname_DI_India                                     0\n",
            "final_cc_cname_DI_Indonesia                                 0\n",
            "final_cc_cname_DI_Japan                                     0\n",
            "final_cc_cname_DI_Mexico                                    0\n",
            "final_cc_cname_DI_Morocco                                   0\n",
            "final_cc_cname_DI_Nigeria                                   0\n",
            "final_cc_cname_DI_Other Africa                              0\n",
            "final_cc_cname_DI_Other East Asia                           0\n",
            "final_cc_cname_DI_Other Europe                              0\n",
            "final_cc_cname_DI_Other Middle East/Central Asia            0\n",
            "final_cc_cname_DI_Other North & Central Amer., Caribbean    0\n",
            "final_cc_cname_DI_Other Oceania                             0\n",
            "final_cc_cname_DI_Other South America                       0\n",
            "final_cc_cname_DI_Other South Asia                          0\n",
            "final_cc_cname_DI_Pakistan                                  0\n",
            "final_cc_cname_DI_Philippines                               0\n",
            "final_cc_cname_DI_Poland                                    0\n",
            "final_cc_cname_DI_Portugal                                  0\n",
            "final_cc_cname_DI_Russian Federation                        0\n",
            "final_cc_cname_DI_Spain                                     0\n",
            "final_cc_cname_DI_Ukraine                                   0\n",
            "final_cc_cname_DI_United Kingdom                            0\n",
            "final_cc_cname_DI_United States                             0\n",
            "final_cc_cname_DI_Unknown/Other                             0\n",
            "LoE_DI_0                                                    0\n",
            "LoE_DI_Bachelor's                                           0\n",
            "LoE_DI_Doctorate                                            0\n",
            "LoE_DI_Less than Secondary                                  0\n",
            "LoE_DI_Master's                                             0\n",
            "LoE_DI_Secondary                                            0\n",
            "gender_0                                                    0\n",
            "gender_f                                                    0\n",
            "gender_m                                                    0\n",
            "course_id_HarvardX/CB22x/2013_Spring                        0\n",
            "course_id_HarvardX/CS50x/2012                               0\n",
            "course_id_HarvardX/ER22x/2013_Spring                        0\n",
            "course_id_HarvardX/PH207x/2012_Fall                         0\n",
            "course_id_HarvardX/PH278x/2013_Spring                       0\n",
            "dtype: int64\n",
            "registered                                                  0\n",
            "viewed                                                      0\n",
            "explored                                                    0\n",
            "YoB                                                         0\n",
            "nevents                                                     0\n",
            "ndays_act                                                   0\n",
            "nplay_video                                                 0\n",
            "nchapters                                                   0\n",
            "nforum_posts                                                0\n",
            "final_cc_cname_DI_Australia                                 0\n",
            "final_cc_cname_DI_Bangladesh                                0\n",
            "final_cc_cname_DI_Brazil                                    0\n",
            "final_cc_cname_DI_Canada                                    0\n",
            "final_cc_cname_DI_China                                     0\n",
            "final_cc_cname_DI_Colombia                                  0\n",
            "final_cc_cname_DI_Egypt                                     0\n",
            "final_cc_cname_DI_France                                    0\n",
            "final_cc_cname_DI_Germany                                   0\n",
            "final_cc_cname_DI_Greece                                    0\n",
            "final_cc_cname_DI_India                                     0\n",
            "final_cc_cname_DI_Indonesia                                 0\n",
            "final_cc_cname_DI_Japan                                     0\n",
            "final_cc_cname_DI_Mexico                                    0\n",
            "final_cc_cname_DI_Morocco                                   0\n",
            "final_cc_cname_DI_Nigeria                                   0\n",
            "final_cc_cname_DI_Other Africa                              0\n",
            "final_cc_cname_DI_Other East Asia                           0\n",
            "final_cc_cname_DI_Other Europe                              0\n",
            "final_cc_cname_DI_Other Middle East/Central Asia            0\n",
            "final_cc_cname_DI_Other North & Central Amer., Caribbean    0\n",
            "final_cc_cname_DI_Other Oceania                             0\n",
            "final_cc_cname_DI_Other South America                       0\n",
            "final_cc_cname_DI_Other South Asia                          0\n",
            "final_cc_cname_DI_Pakistan                                  0\n",
            "final_cc_cname_DI_Philippines                               0\n",
            "final_cc_cname_DI_Poland                                    0\n",
            "final_cc_cname_DI_Portugal                                  0\n",
            "final_cc_cname_DI_Russian Federation                        0\n",
            "final_cc_cname_DI_Spain                                     0\n",
            "final_cc_cname_DI_Ukraine                                   0\n",
            "final_cc_cname_DI_United Kingdom                            0\n",
            "final_cc_cname_DI_United States                             0\n",
            "final_cc_cname_DI_Unknown/Other                             0\n",
            "LoE_DI_0                                                    0\n",
            "LoE_DI_Bachelor's                                           0\n",
            "LoE_DI_Doctorate                                            0\n",
            "LoE_DI_Less than Secondary                                  0\n",
            "LoE_DI_Master's                                             0\n",
            "LoE_DI_Secondary                                            0\n",
            "gender_0                                                    0\n",
            "gender_f                                                    0\n",
            "gender_m                                                    0\n",
            "course_id_HarvardX/CB22x/2013_Spring                        0\n",
            "course_id_HarvardX/CS50x/2012                               0\n",
            "course_id_HarvardX/ER22x/2013_Spring                        0\n",
            "course_id_HarvardX/PH207x/2012_Fall                         0\n",
            "course_id_HarvardX/PH278x/2013_Spring                       0\n",
            "dtype: int64\n"
          ]
        }
      ]
    },
    {
      "cell_type": "markdown",
      "source": [
        "## 4. First model: Random Forest"
      ],
      "metadata": {
        "id": "3PEyzMqe7AR0"
      }
    },
    {
      "cell_type": "code",
      "source": [
        "from sklearn.ensemble import RandomForestClassifier\n",
        "\n",
        "# Split for validation\n",
        "train_data_m1, val_data_m1 = train_test_split(train_data_scaled, test_size=0.2)"
      ],
      "metadata": {
        "id": "F2Q2kCMQclpB"
      },
      "execution_count": null,
      "outputs": []
    },
    {
      "cell_type": "code",
      "source": [
        "# Grid Search\n",
        "\n",
        "from sklearn.model_selection import GridSearchCV\n",
        "\n",
        "n_estimators = [20, 50, 150, 250, 300]\n",
        "max_depth = [2, 5, 10, 15, 20]\n",
        "model = RandomForestClassifier()\n",
        "hyperparameters = {'n_estimators': n_estimators, 'max_depth':max_depth}\n",
        "search = GridSearchCV(model, hyperparameters, cv=6, return_train_score=True)\n",
        "search.fit(train_data_m1.drop(target, axis = 1), train_data_m1[target])\n",
        "print(search.best_params_)"
      ],
      "metadata": {
        "id": "RRWieShxcqU8",
        "colab": {
          "base_uri": "https://localhost:8080/"
        },
        "outputId": "d2d813d7-c751-4c46-c0f6-21f4054e656d"
      },
      "execution_count": null,
      "outputs": [
        {
          "output_type": "stream",
          "name": "stdout",
          "text": [
            "{'max_depth': 15, 'n_estimators': 250}\n"
          ]
        }
      ]
    },
    {
      "cell_type": "code",
      "source": [
        "# Predict on Validation Set with Best Parameters\n",
        "predict = search.predict(val_data_m1.drop(target, axis = 1))"
      ],
      "metadata": {
        "id": "FqJx1lxeuWKf"
      },
      "execution_count": null,
      "outputs": []
    },
    {
      "cell_type": "code",
      "source": [
        "## Plot Accuracy for combinations of hyperparameters\n",
        "import matplotlib.pyplot as plt\n",
        "\n",
        "#def plot_scores(ax, title, search, hyperparameters, score_key):\n",
        "    # Get results from GridSearch and turn scores into matrix\n",
        "    #cv_results = search.cv_results_\n",
        "    #scores = cv_results[score_key]\n",
        "    #scores = scores.reshape((len(hyperparameters['max_depth']), len(hyperparameters['n_estimators'])))\n",
        "    #max_depths = cv_results['param_max_depth'].reshape(scores.shape).data.astype(int)\n",
        "    #n_estimators = cv_results['param_n_estimators'].reshape(scores.shape).data.astype(int)\n",
        "\n",
        "    # Plot result\n",
        "    #ax.plot_wireframe(max_depths, n_estimators, scores)\n",
        "    #ax.view_init(20, 220)\n",
        "    #ax.set_xlabel('Maximum Depth')\n",
        "    #ax.set_ylabel('n_estimators')\n",
        "    #ax.set_zlabel('Accuracy')\n",
        "    #ax.set_title(title)\n",
        "\n",
        "\n",
        "#fig = plt.figure(figsize=(15,7))\n",
        "#ax1 = fig.add_subplot(121, projection='3d')\n",
        "#ax2 = fig.add_subplot(122, projection='3d')\n",
        "#plot_scores(ax1, 'Train Accuracy', search, hyperparameters, 'mean_train_score')\n",
        "#plot_scores(ax2, 'Validation Accuracy', search, hyperparameters, 'mean_test_score')"
      ],
      "metadata": {
        "id": "1zGGEvhTUzUE"
      },
      "execution_count": null,
      "outputs": []
    },
    {
      "cell_type": "code",
      "source": [
        "## Plot Confusion Matrix\n",
        "import seaborn as sns\n",
        "\n",
        "def plot_confusion_matrix(tp, fp, fn, tn):\n",
        "    \"\"\"\n",
        "    Plots a confusion matrix using the values\n",
        "       tp - True Positive\n",
        "       fp - False Positive\n",
        "       fn - False Negative\n",
        "       tn - True Negative\n",
        "    \"\"\"\n",
        "    data = np.matrix([[tp, fp], [fn, tn]])\n",
        "\n",
        "    sns.heatmap(data,annot=True,xticklabels=['Actual Pos', 'Actual Neg']\n",
        "              ,yticklabels=['Pred. Pos', 'Pred. Neg'])\n",
        "\n",
        "## Confusion Matrix\n",
        "from sklearn.metrics import confusion_matrix\n",
        "\n",
        "#predict = search.predict(val_data_m1.drop(target, axis = 1))\n",
        "confusion = confusion_matrix(val_data_m1[target], predict)\n",
        "tp = confusion[1,1]\n",
        "fp = confusion[0,1]\n",
        "tn = confusion[0,0]\n",
        "fn = confusion[1,0]\n",
        "\n",
        "plot_confusion_matrix(tp=tp, fp=fp, tn=tn, fn=fn)"
      ],
      "metadata": {
        "colab": {
          "base_uri": "https://localhost:8080/",
          "height": 430
        },
        "id": "QbceSnpVV7U2",
        "outputId": "7622a2e2-f0b0-4f7c-d141-a188a1022c14"
      },
      "execution_count": null,
      "outputs": [
        {
          "output_type": "display_data",
          "data": {
            "text/plain": [
              "<Figure size 640x480 with 2 Axes>"
            ],
            "image/png": "[encoded data removed]"
          },
          "metadata": {}
        }
      ]
    },
    {
      "cell_type": "markdown",
      "source": [
        "Prediction on Test Set"
      ],
      "metadata": {
        "id": "3blwNWCkYWBM"
      }
    },
    {
      "cell_type": "code",
      "source": [
        "#Test Prediction\n",
        "predictions = search.predict(test_data_scaled)\n",
        "\n",
        "# Save your predictions as a CSV\n",
        "to_save = df_test[['userid_DI']].copy()\n",
        "to_save.loc[:, 'certified'] = predictions\n",
        "to_save.to_csv('submission1.csv', index=False)"
      ],
      "metadata": {
        "id": "8QjDd_SNYVzX"
      },
      "execution_count": null,
      "outputs": []
    },
    {
      "cell_type": "markdown",
      "source": [
        "## 5. 2nd Model - AdaBoost"
      ],
      "metadata": {
        "id": "iYkVYVp8_V81"
      }
    },
    {
      "cell_type": "code",
      "source": [
        "from sklearn.ensemble import AdaBoostClassifier\n",
        "from sklearn.datasets import load_digits\n",
        "from sklearn.model_selection import train_test_split, GridSearchCV\n",
        "from sklearn.metrics import accuracy_score"
      ],
      "metadata": {
        "id": "v8Tb7G2u_h21"
      },
      "execution_count": null,
      "outputs": []
    },
    {
      "cell_type": "markdown",
      "source": [
        "Grid Search to find best AdaBoost params"
      ],
      "metadata": {
        "id": "nEaabBTaGVog"
      }
    },
    {
      "cell_type": "code",
      "source": [
        "params = {\"n_estimators\": [25,50,100,125,150],\n",
        "          \"learning_rate\": [0.05,0.1,0.5,1.0]}\n",
        "abc = AdaBoostClassifier()\n",
        "abc_gs = GridSearchCV(estimator=abc, param_grid=params, cv=6, return_train_score=True)\n",
        "abc_gs.fit(train_data_m1.drop(target, axis = 1), train_data_m1[target])"
      ],
      "metadata": {
        "colab": {
          "base_uri": "https://localhost:8080/",
          "height": 118
        },
        "id": "0BwR8-9ZBe3e",
        "outputId": "5cf3d3d7-7e59-451c-cd43-9708f1c34453"
      },
      "execution_count": null,
      "outputs": [
        {
          "output_type": "execute_result",
          "data": {
            "text/plain": [
              "GridSearchCV(cv=6, estimator=AdaBoostClassifier(),\n",
              "             param_grid={'learning_rate': [0.05, 0.1, 0.5, 1.0],\n",
              "                         'n_estimators': [25, 50, 100, 125, 150]},\n",
              "             return_train_score=True)"
            ],
            "text/html": [
              "<style>#sk-container-id-2 {color: black;background-color: white;}#sk-container-id-2 pre{padding: 0;}#sk-container-id-2 div.sk-toggleable {background-color: white;}#sk-container-id-2 label.sk-toggleable__label {cursor: pointer;display: block;width: 100%;margin-bottom: 0;padding: 0.3em;box-sizing: border-box;text-align: center;}#sk-container-id-2 label.sk-toggleable__label-arrow:before {content: \"▸\";float: left;margin-right: 0.25em;color: #696969;}#sk-container-id-2 label.sk-toggleable__label-arrow:hover:before {color: black;}#sk-container-id-2 div.sk-estimator:hover label.sk-toggleable__label-arrow:before {color: black;}#sk-container-id-2 div.sk-toggleable__content {max-height: 0;max-width: 0;overflow: hidden;text-align: left;background-color: #f0f8ff;}#sk-container-id-2 div.sk-toggleable__content pre {margin: 0.2em;color: black;border-radius: 0.25em;background-color: #f0f8ff;}#sk-container-id-2 input.sk-toggleable__control:checked~div.sk-toggleable__content {max-height: 200px;max-width: 100%;overflow: auto;}#sk-container-id-2 input.sk-toggleable__control:checked~label.sk-toggleable__label-arrow:before {content: \"▾\";}#sk-container-id-2 div.sk-estimator input.sk-toggleable__control:checked~label.sk-toggleable__label {background-color: #d4ebff;}#sk-container-id-2 div.sk-label input.sk-toggleable__control:checked~label.sk-toggleable__label {background-color: #d4ebff;}#sk-container-id-2 input.sk-hidden--visually {border: 0;clip: rect(1px 1px 1px 1px);clip: rect(1px, 1px, 1px, 1px);height: 1px;margin: -1px;overflow: hidden;padding: 0;position: absolute;width: 1px;}#sk-container-id-2 div.sk-estimator {font-family: monospace;background-color: #f0f8ff;border: 1px dotted black;border-radius: 0.25em;box-sizing: border-box;margin-bottom: 0.5em;}#sk-container-id-2 div.sk-estimator:hover {background-color: #d4ebff;}#sk-container-id-2 div.sk-parallel-item::after {content: \"\";width: 100%;border-bottom: 1px solid gray;flex-grow: 1;}#sk-container-id-2 div.sk-label:hover label.sk-toggleable__label {background-color: #d4ebff;}#sk-container-id-2 div.sk-serial::before {content: \"\";position: absolute;border-left: 1px solid gray;box-sizing: border-box;top: 0;bottom: 0;left: 50%;z-index: 0;}#sk-container-id-2 div.sk-serial {display: flex;flex-direction: column;align-items: center;background-color: white;padding-right: 0.2em;padding-left: 0.2em;position: relative;}#sk-container-id-2 div.sk-item {position: relative;z-index: 1;}#sk-container-id-2 div.sk-parallel {display: flex;align-items: stretch;justify-content: center;background-color: white;position: relative;}#sk-container-id-2 div.sk-item::before, #sk-container-id-2 div.sk-parallel-item::before {content: \"\";position: absolute;border-left: 1px solid gray;box-sizing: border-box;top: 0;bottom: 0;left: 50%;z-index: -1;}#sk-container-id-2 div.sk-parallel-item {display: flex;flex-direction: column;z-index: 1;position: relative;background-color: white;}#sk-container-id-2 div.sk-parallel-item:first-child::after {align-self: flex-end;width: 50%;}#sk-container-id-2 div.sk-parallel-item:last-child::after {align-self: flex-start;width: 50%;}#sk-container-id-2 div.sk-parallel-item:only-child::after {width: 0;}#sk-container-id-2 div.sk-dashed-wrapped {border: 1px dashed gray;margin: 0 0.4em 0.5em 0.4em;box-sizing: border-box;padding-bottom: 0.4em;background-color: white;}#sk-container-id-2 div.sk-label label {font-family: monospace;font-weight: bold;display: inline-block;line-height: 1.2em;}#sk-container-id-2 div.sk-label-container {text-align: center;}#sk-container-id-2 div.sk-container {/* jupyter's `normalize.less` sets `[hidden] { display: none; }` but bootstrap.min.css set `[hidden] { display: none !important; }` so we also need the `!important` here to be able to override the default hidden behavior on the sphinx rendered scikit-learn.org. See: https://github.com/scikit-learn/scikit-learn/issues/21755 */display: inline-block !important;position: relative;}#sk-container-id-2 div.sk-text-repr-fallback {display: none;}</style><div id=\"sk-container-id-2\" class=\"sk-top-container\"><div class=\"sk-text-repr-fallback\"><pre>GridSearchCV(cv=6, estimator=AdaBoostClassifier(),\n",
              "             param_grid={&#x27;learning_rate&#x27;: [0.05, 0.1, 0.5, 1.0],\n",
              "                         &#x27;n_estimators&#x27;: [25, 50, 100, 125, 150]},\n",
              "             return_train_score=True)</pre><b>In a Jupyter environment, please rerun this cell to show the HTML representation or trust the notebook. <br />On GitHub, the HTML representation is unable to render, please try loading this page with nbviewer.org.</b></div><div class=\"sk-container\" hidden><div class=\"sk-item sk-dashed-wrapped\"><div class=\"sk-label-container\"><div class=\"sk-label sk-toggleable\"><input class=\"sk-toggleable__control sk-hidden--visually\" id=\"sk-estimator-id-2\" type=\"checkbox\" ><label for=\"sk-estimator-id-2\" class=\"sk-toggleable__label sk-toggleable__label-arrow\">GridSearchCV</label><div class=\"sk-toggleable__content\"><pre>GridSearchCV(cv=6, estimator=AdaBoostClassifier(),\n",
              "             param_grid={&#x27;learning_rate&#x27;: [0.05, 0.1, 0.5, 1.0],\n",
              "                         &#x27;n_estimators&#x27;: [25, 50, 100, 125, 150]},\n",
              "             return_train_score=True)</pre></div></div></div><div class=\"sk-parallel\"><div class=\"sk-parallel-item\"><div class=\"sk-item\"><div class=\"sk-label-container\"><div class=\"sk-label sk-toggleable\"><input class=\"sk-toggleable__control sk-hidden--visually\" id=\"sk-estimator-id-3\" type=\"checkbox\" ><label for=\"sk-estimator-id-3\" class=\"sk-toggleable__label sk-toggleable__label-arrow\">estimator: AdaBoostClassifier</label><div class=\"sk-toggleable__content\"><pre>AdaBoostClassifier()</pre></div></div></div><div class=\"sk-serial\"><div class=\"sk-item\"><div class=\"sk-estimator sk-toggleable\"><input class=\"sk-toggleable__control sk-hidden--visually\" id=\"sk-estimator-id-4\" type=\"checkbox\" ><label for=\"sk-estimator-id-4\" class=\"sk-toggleable__label sk-toggleable__label-arrow\">AdaBoostClassifier</label><div class=\"sk-toggleable__content\"><pre>AdaBoostClassifier()</pre></div></div></div></div></div></div></div></div></div></div>"
            ]
          },
          "metadata": {},
          "execution_count": 18
        }
      ]
    },
    {
      "cell_type": "markdown",
      "source": [
        "Train model with best params"
      ],
      "metadata": {
        "id": "Qcz0u4GbGe2S"
      }
    },
    {
      "cell_type": "code",
      "source": [
        "best_abc = abc_gs.best_estimator_\n",
        "abc_pred = best_abc.predict(val_data_m1.drop(target, axis = 1))"
      ],
      "metadata": {
        "id": "ybrl7ppvGLlB"
      },
      "execution_count": null,
      "outputs": []
    },
    {
      "cell_type": "code",
      "source": [
        "print(best_abc)"
      ],
      "metadata": {
        "colab": {
          "base_uri": "https://localhost:8080/"
        },
        "id": "C7lMp71fHp5v",
        "outputId": "acde310c-47fe-44bc-b232-19ca9935a368"
      },
      "execution_count": null,
      "outputs": [
        {
          "output_type": "stream",
          "name": "stdout",
          "text": [
            "AdaBoostClassifier(learning_rate=0.1, n_estimators=150)\n"
          ]
        }
      ]
    },
    {
      "cell_type": "markdown",
      "source": [
        "### Confusion Matrix"
      ],
      "metadata": {
        "id": "-E88UsT6G7rs"
      }
    },
    {
      "cell_type": "code",
      "source": [
        "import numpy as np\n",
        "import matplotlib.pyplot as plt\n",
        "from sklearn.metrics import confusion_matrix"
      ],
      "metadata": {
        "id": "FJpeLPo4Og1L"
      },
      "execution_count": null,
      "outputs": []
    },
    {
      "cell_type": "code",
      "source": [
        "cm = confusion_matrix(val_data_m1[target], abc_pred)\n",
        "\n",
        "plt.imshow(cm, cmap=plt.cm.Blues)\n",
        "plt.colorbar()\n",
        "plt.xticks(np.arange(2), [\"Negative\", \"Positive\"])\n",
        "plt.yticks(np.arange(2), [\"Negative\", \"Positive\"])\n",
        "plt.xlabel(\"Predicted Label\")\n",
        "plt.ylabel(\"True Label\")\n",
        "plt.title(\"Confusion Matrix\")\n",
        "plt.show()\n"
      ],
      "metadata": {
        "colab": {
          "base_uri": "https://localhost:8080/",
          "height": 472
        },
        "id": "XyFh3ShHHBu8",
        "outputId": "5bd14b25-edd9-4672-9d5f-224583b1c0f6"
      },
      "execution_count": null,
      "outputs": [
        {
          "output_type": "display_data",
          "data": {
            "text/plain": [
              "<Figure size 640x480 with 2 Axes>"
            ],
            "image/png": "[encoded data removed]"
          },
          "metadata": {}
        }
      ]
    },
    {
      "cell_type": "code",
      "source": [
        "tp = cm[1,1]\n",
        "fp = cm[0,1]\n",
        "tn = cm[0,0]\n",
        "fn = cm[1,0]\n",
        "\n",
        "plot_confusion_matrix(tp=tp, fp=fp, tn=tn, fn=fn)"
      ],
      "metadata": {
        "colab": {
          "base_uri": "https://localhost:8080/",
          "height": 433
        },
        "id": "SlzixAvGx6OJ",
        "outputId": "cbc3cccf-e432-436e-e9fd-a17260be235d"
      },
      "execution_count": null,
      "outputs": [
        {
          "output_type": "display_data",
          "data": {
            "text/plain": [
              "<Figure size 640x480 with 2 Axes>"
            ],
            "image/png": "[encoded data removed]"
          },
          "metadata": {}
        }
      ]
    },
    {
      "cell_type": "code",
      "source": [
        "pred = best_abc.predict(test_data_scaled)\n",
        "\n",
        "to_save = df_test[['userid_DI']].copy()\n",
        "to_save.loc[:, 'certified'] = pred\n",
        "to_save.to_csv('submission2.csv', index=False)"
      ],
      "metadata": {
        "id": "wuqosPy1E4Ed"
      },
      "execution_count": null,
      "outputs": []
    },
    {
      "cell_type": "markdown",
      "source": [
        "## 6. Using Lasso to detact the most important feature for the prediction"
      ],
      "metadata": {
        "id": "BvvsjGvO9AUI"
      }
    },
    {
      "cell_type": "code",
      "source": [
        "from sklearn.linear_model import Lasso\n",
        "X_train = train_data_m1.drop(target, axis = 1)\n",
        "y_train = train_data_m1[target]\n",
        "# Assuming X_train and y_train are your training data\n",
        "model = Lasso(alpha=0.1)  # Set the regularization parameter alpha\n",
        "model.fit(X_train, y_train)\n",
        "\n",
        "# Get the feature coefficients\n",
        "coefficients = model.coef_\n",
        "\n",
        "# Get the feature names\n",
        "feature_names = X_train.columns\n",
        "\n",
        "# Create a dictionary mapping feature names to their coefficients\n",
        "feature_coefficients = dict(zip(feature_names, coefficients))\n",
        "\n",
        "# Rank the features based on their absolute coefficient values\n",
        "feature_importance_ranking = sorted(feature_coefficients.items(), key=lambda x: abs(x[1]), reverse=True)\n",
        "\n",
        "# Print the ranked features and their coefficients\n",
        "for feature, coefficient in feature_importance_ranking:\n",
        "    print(f\"{feature}: {coefficient}\")"
      ],
      "metadata": {
        "colab": {
          "base_uri": "https://localhost:8080/"
        },
        "id": "yW752qzC9QhM",
        "outputId": "485e790c-44b1-4c0a-aadc-72e9b2d1e888"
      },
      "execution_count": null,
      "outputs": [
        {
          "output_type": "stream",
          "name": "stdout",
          "text": [
            "nchapters: 0.2075215954212428\n",
            "ndays_act: 0.1324930333844306\n",
            "registered: 0.0\n",
            "viewed: 0.0\n",
            "explored: 0.0\n",
            "YoB: 0.0\n",
            "nevents: 0.0\n",
            "nplay_video: 0.0\n",
            "nforum_posts: 0.0\n",
            "final_cc_cname_DI_Australia: 0.0\n",
            "final_cc_cname_DI_Bangladesh: -0.0\n",
            "final_cc_cname_DI_Brazil: -0.0\n",
            "final_cc_cname_DI_Canada: 0.0\n",
            "final_cc_cname_DI_China: 0.0\n",
            "final_cc_cname_DI_Colombia: 0.0\n",
            "final_cc_cname_DI_Egypt: -0.0\n",
            "final_cc_cname_DI_France: 0.0\n",
            "final_cc_cname_DI_Germany: 0.0\n",
            "final_cc_cname_DI_Greece: 0.0\n",
            "final_cc_cname_DI_India: 0.0\n",
            "final_cc_cname_DI_Indonesia: -0.0\n",
            "final_cc_cname_DI_Japan: -0.0\n",
            "final_cc_cname_DI_Mexico: -0.0\n",
            "final_cc_cname_DI_Morocco: -0.0\n",
            "final_cc_cname_DI_Nigeria: 0.0\n",
            "final_cc_cname_DI_Other Africa: 0.0\n",
            "final_cc_cname_DI_Other East Asia: -0.0\n",
            "final_cc_cname_DI_Other Europe: 0.0\n",
            "final_cc_cname_DI_Other Middle East/Central Asia: 0.0\n",
            "final_cc_cname_DI_Other North & Central Amer., Caribbean: -0.0\n",
            "final_cc_cname_DI_Other Oceania: -0.0\n",
            "final_cc_cname_DI_Other South America: -0.0\n",
            "final_cc_cname_DI_Other South Asia: 0.0\n",
            "final_cc_cname_DI_Pakistan: 0.0\n",
            "final_cc_cname_DI_Philippines: 0.0\n",
            "final_cc_cname_DI_Poland: 0.0\n",
            "final_cc_cname_DI_Portugal: 0.0\n",
            "final_cc_cname_DI_Russian Federation: 0.0\n",
            "final_cc_cname_DI_Spain: 0.0\n",
            "final_cc_cname_DI_Ukraine: 0.0\n",
            "final_cc_cname_DI_United Kingdom: 0.0\n",
            "final_cc_cname_DI_United States: -0.0\n",
            "final_cc_cname_DI_Unknown/Other: -0.0\n",
            "LoE_DI_0: -0.0\n",
            "LoE_DI_Bachelor's: -0.0\n",
            "LoE_DI_Doctorate: 0.0\n",
            "LoE_DI_Less than Secondary: 0.0\n",
            "LoE_DI_Master's: 0.0\n",
            "LoE_DI_Secondary: -0.0\n",
            "gender_0: -0.0\n",
            "gender_f: 0.0\n",
            "gender_m: -0.0\n",
            "course_id_HarvardX/CB22x/2013_Spring: -0.0\n",
            "course_id_HarvardX/CS50x/2012: -0.0\n",
            "course_id_HarvardX/ER22x/2013_Spring: -0.0\n",
            "course_id_HarvardX/PH207x/2012_Fall: 0.0\n",
            "course_id_HarvardX/PH278x/2013_Spring: 0.0\n"
          ]
        }
      ]
    },
    {
      "cell_type": "markdown",
      "source": [
        "**Remember to submit your submissions CSV FILE on Kaggle!** 40 pts come from your accuracy on the private test data.\n",
        "\n",
        "Attend section on Thurs 5/11 for a demo of how to uppload submissions to Kaggle. We also have screenshots below (ingore summer and homework number in pictures)\n",
        "\n",
        "Step 1: See the list of files on Colab\n",
        "\n",
        "![See Colab Files](https://courses.cs.washington.edu/courses/cse416/22su/homework/hw4/programming/1_colab_see_files.jpg)\n",
        "\n",
        "Step 2: Download `submission.csv`\n",
        "\n",
        "![Download Colab File](https://courses.cs.washington.edu/courses/cse416/22su/homework/hw4/programming/2_colab_download_file.jpg)\n",
        "\n",
        "Step 3: Join the Kaggle competition.\n",
        "\n",
        "![Join the Kaggle Competition](https://courses.cs.washington.edu/courses/cse416/22su/homework/hw4/programming/3_kaggle_join_competition.jpg)\n",
        "\n",
        "Step 4: Enusre your team name in Kaggle matches the one at the top of this notebook!\n",
        "\n",
        "![Check Team Name](https://courses.cs.washington.edu/courses/cse416/22su/homework/hw4/programming/4_kaggle_team_name.jpg)\n",
        "\n",
        "Step 5: Upload `submission.csv` to Kaggle\n",
        "\n",
        "![Upload submission.csv](https://courses.cs.washington.edu/courses/cse416/22su/homework/hw4/programming/6_kaggle_upload_submission.jpg)\n",
        "\n"
      ],
      "metadata": {
        "id": "xz_Yk6BDXk1H"
      }
    },
    {
      "cell_type": "markdown",
      "source": [
        "### **Discussion**\n",
        "\n"
      ],
      "metadata": {
        "id": "aOwxTjy3OPh6"
      }
    },
    {
      "cell_type": "markdown",
      "source": [
        "#### **[7 Pts] Training the Models**\n",
        "\n",
        "**Instructions**: Discuss what models you tried, and what you did to improve your initial predictions. Discuss what hyperparameters you tried, and which hyperparameters seemed important for your final model. Finally, discuss what you are inferring from the above visualiation(s)."
      ],
      "metadata": {
        "id": "W8wZm-0cOe6U"
      }
    },
    {
      "cell_type": "markdown",
      "source": [
        "The two models we tried for this assignments are the Random Forest Classifier and the AdaBoost Classifier.\n",
        "\n",
        "For our first try (RFC), we tried a combination of n_estimators being 20, 50, 150, 250, 300 and\n",
        "max_depth being 2, 5, 10, 15, 20, with the best sets of parameters being n_estimators = 250 and max_depth = 15. Both the n_estimators and max_depth are important hyperparameters for this particular model. The number of estimators determines the total number of trees, which creates a tradeoff between speed and accuracy (more trees means more accurate predictions but more runtime). The maximum depth is crucial since it can effectively prevent the model from overfitting.\n",
        "\n",
        "For the second method (AdaBoost), we tried n_estimators being 25,50,100,125,150 and learning_rate being 0.05,0.1,0.5,1.0; we found the best combination to be when n_estimators=150 and learning_rate=0.5. Similar to the Random Forest Classifier, the number of estimators is also important in the AdaBoost model as it determines the number of weak learners. Learning rate is another important hyperparameter here because it controls the weight of the base model.\n",
        "\n",
        "By examining the confusion matrices from both models, we can see that they both did a descent job. The first model has a precision of 0.950, a recall of 0.988, and an accuracy of 0.973, while the second model has a precision of 0.944, a recall of 0.976, and an accuracy of 0.964."
      ],
      "metadata": {
        "id": "1QFdF3wSXLgd"
      }
    },
    {
      "cell_type": "markdown",
      "source": [
        "#### **[3 Pts] Feature Selection**\n",
        "\n",
        "**Instructions**: Discuss what features you used and whether you did some transformations on them. What features seemed important for your final model?"
      ],
      "metadata": {
        "id": "4uCjBLL1Ow-Q"
      }
    },
    {
      "cell_type": "markdown",
      "source": [
        "The nchapters is the feature that is most important for predicting the data, since in LASSO with regularization parameter of 0.1 we get the largest value for this feature. Also, the nchapters, ndays_act,\n",
        "registered, viewed, explored, YoB, nevents, nplay_video, nforum_posts, final_cc_cname_DI, LoE_DI, gender, course_id are important features in the model, since we used those features to train the modle and a good performance on the data."
      ],
      "metadata": {
        "id": "oOGdC9EGXKst"
      }
    },
    {
      "cell_type": "markdown",
      "source": [
        "#### **[5 Pts] Ethical Implications**\n",
        "\n",
        "**Instructions**: Consider and discuss the ethical implications of using the model you trained. Imagine you were hired to work as a data scientist for an online education platform (exciting, right?). They want to use your model to predict which students they should tailor their course material towards so they can maximize their profits. Their idea is to use the model to help predict which student groups (i.e. from specific countries or certain educational backgrounds) would make them the most money by getting the most participants to complete their paid certificate program. Are there any ethical considerations we should think about before acting on that plan?"
      ],
      "metadata": {
        "id": "nbodmlrhPCJv"
      }
    },
    {
      "cell_type": "markdown",
      "source": [
        "There are some ethical issues about our model:\n",
        "1. Since we did not process the row data too much, it is possible that we break the fairness. People from certain groups tend to be accepted more than people from other groups.\n",
        "2. Since we are focusing on profit maximization, we overlook the students who need educational support more than others. From an ethical view, we need to give support to all people.\n",
        "\n",
        "Also, we solved some issues:\n",
        "1.\tWe made our estimate transparent. We specifies which features are important on deciding who can make more profit and acquired.\n",
        "2.\tAlso, we made data secured. Student data cannot be accessed by others since it is only used for training the model and not used by other purpose.\n"
      ],
      "metadata": {
        "id": "w3WVhDKSXMAt"
      }
    }
  ]
}